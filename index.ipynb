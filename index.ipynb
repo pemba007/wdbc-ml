{
 "cells": [
  {
   "cell_type": "code",
   "execution_count": 25,
   "metadata": {},
   "outputs": [],
   "source": [
    "# Importing the library 'pandas' for the machine learning\n",
    "import pandas as pd\n",
    "\n",
    "# Importing the data from the csv file onto the 'df' dataframe\n",
    "df = pd.read_csv('./wdbc.csv',header=None)"
   ]
  },
  {
   "cell_type": "code",
   "execution_count": 26,
   "metadata": {},
   "outputs": [
    {
     "name": "stdout",
     "output_type": "stream",
     "text": [
      "(569, 32)\n"
     ]
    }
   ],
   "source": [
    "# Checking the shape of the dataset\n",
    "print(df.shape)"
   ]
  },
  {
   "cell_type": "code",
   "execution_count": 27,
   "metadata": {},
   "outputs": [],
   "source": [
    "# Removing the column with ID Number since it's irrelevant to our classifier\n",
    "df.drop(df.columns[0], axis=1, inplace=True)"
   ]
  },
  {
   "cell_type": "code",
   "execution_count": 28,
   "metadata": {},
   "outputs": [
    {
     "name": "stdout",
     "output_type": "stream",
     "text": [
      "(569, 31)\n"
     ]
    }
   ],
   "source": [
    "# Confirming removal of ID Number\n",
    "print(df.shape)"
   ]
  },
  {
   "cell_type": "code",
   "execution_count": 29,
   "metadata": {},
   "outputs": [],
   "source": [
    "# Splitting the output variable and the training features\n",
    "y = df.iloc[:,0]\n",
    "df.drop(df.columns[0], axis=1, inplace=True)"
   ]
  },
  {
   "cell_type": "code",
   "execution_count": 31,
   "metadata": {},
   "outputs": [
    {
     "name": "stdout",
     "output_type": "stream",
     "text": [
      "               2           3           4            5           6   \\\n",
      "count  569.000000  569.000000  569.000000   569.000000  569.000000   \n",
      "mean    14.127292   19.289649   91.969033   654.889104    0.096360   \n",
      "std      3.524049    4.301036   24.298981   351.914129    0.014064   \n",
      "min      6.981000    9.710000   43.790000   143.500000    0.052630   \n",
      "25%     11.700000   16.170000   75.170000   420.300000    0.086370   \n",
      "50%     13.370000   18.840000   86.240000   551.100000    0.095870   \n",
      "75%     15.780000   21.800000  104.100000   782.700000    0.105300   \n",
      "max     28.110000   39.280000  188.500000  2501.000000    0.163400   \n",
      "\n",
      "               7           8           9           10          11  ...  \\\n",
      "count  569.000000  569.000000  569.000000  569.000000  569.000000  ...   \n",
      "mean     0.104341    0.088799    0.048919    0.181162    0.062798  ...   \n",
      "std      0.052813    0.079720    0.038803    0.027414    0.007060  ...   \n",
      "min      0.019380    0.000000    0.000000    0.106000    0.049960  ...   \n",
      "25%      0.064920    0.029560    0.020310    0.161900    0.057700  ...   \n",
      "50%      0.092630    0.061540    0.033500    0.179200    0.061540  ...   \n",
      "75%      0.130400    0.130700    0.074000    0.195700    0.066120  ...   \n",
      "max      0.345400    0.426800    0.201200    0.304000    0.097440  ...   \n",
      "\n",
      "               22          23          24           25          26  \\\n",
      "count  569.000000  569.000000  569.000000   569.000000  569.000000   \n",
      "mean    16.269190   25.677223  107.261213   880.583128    0.132369   \n",
      "std      4.833242    6.146258   33.602542   569.356993    0.022832   \n",
      "min      7.930000   12.020000   50.410000   185.200000    0.071170   \n",
      "25%     13.010000   21.080000   84.110000   515.300000    0.116600   \n",
      "50%     14.970000   25.410000   97.660000   686.500000    0.131300   \n",
      "75%     18.790000   29.720000  125.400000  1084.000000    0.146000   \n",
      "max     36.040000   49.540000  251.200000  4254.000000    0.222600   \n",
      "\n",
      "               27          28          29          30          31  \n",
      "count  569.000000  569.000000  569.000000  569.000000  569.000000  \n",
      "mean     0.254265    0.272188    0.114606    0.290076    0.083946  \n",
      "std      0.157336    0.208624    0.065732    0.061867    0.018061  \n",
      "min      0.027290    0.000000    0.000000    0.156500    0.055040  \n",
      "25%      0.147200    0.114500    0.064930    0.250400    0.071460  \n",
      "50%      0.211900    0.226700    0.099930    0.282200    0.080040  \n",
      "75%      0.339100    0.382900    0.161400    0.317900    0.092080  \n",
      "max      1.058000    1.252000    0.291000    0.663800    0.207500  \n",
      "\n",
      "[8 rows x 30 columns]\n"
     ]
    }
   ],
   "source": [
    "# Data Visualization\n",
    "print(df.describe())"
   ]
  },
  {
   "cell_type": "code",
   "execution_count": null,
   "metadata": {},
   "outputs": [],
   "source": []
  },
  {
   "cell_type": "code",
   "execution_count": 17,
   "metadata": {},
   "outputs": [],
   "source": [
    "# Importing the normalizer and the column transformer for the data preprocessing\n",
    "from sklearn.preprocessing import Normalizer\n",
    "from sklearn.compose import ColumnTransformer\n",
    "\n",
    "# Column Transformer is coded to normalize the columns that are of high values i.e out of the range of 0-10\n",
    "ct = ColumnTransformer([(\"normalization\", Normalizer(norm='l1'), [2,3,4,5,15,23,24,25])], remainder='passthrough')\n",
    "\n",
    "# The columns are fitted and transformed for normalization\n",
    "df = ct.fit_transform(df)"
   ]
  },
  {
   "cell_type": "code",
   "execution_count": 18,
   "metadata": {},
   "outputs": [
    {
     "name": "stdout",
     "output_type": "stream",
     "text": [
      "{'B': 0, 'M': 1}\n"
     ]
    }
   ],
   "source": [
    "# Encoding the output variable to numeric class labels\n",
    "from sklearn.preprocessing import LabelEncoder\n",
    "\n",
    "le = LabelEncoder()\n",
    "y = le.fit_transform(y)\n",
    "\n",
    "le_name_mapping = dict(zip(le.classes_, le.transform(le.classes_)))\n",
    "print(le_name_mapping)"
   ]
  },
  {
   "cell_type": "code",
   "execution_count": 19,
   "metadata": {},
   "outputs": [],
   "source": [
    "# Splitting the model in 70-30 scheme for training\n",
    "from sklearn.model_selection import train_test_split\n",
    "\n",
    "# The overall dataset is splitted into two sets of training and testing randomly\n",
    "X_train, X_test, y_train, y_test = train_test_split(df, y, test_size=0.30, random_state=6, stratify=y)"
   ]
  },
  {
   "cell_type": "code",
   "execution_count": 20,
   "metadata": {},
   "outputs": [
    {
     "name": "stdout",
     "output_type": "stream",
     "text": [
      "Number of mislabeled points out of a total 171 points : 4\n",
      "Confusion matrix\n"
     ]
    },
    {
     "data": {
      "image/png": "[encoded data removed]",
      "text/plain": [
       "<Figure size 432x288 with 2 Axes>"
      ]
     },
     "metadata": {
      "needs_background": "light"
     },
     "output_type": "display_data"
    }
   ],
   "source": [
    "from sklearn.naive_bayes import GaussianNB\n",
    "from sklearn.metrics import confusion_matrix\n",
    "from sklearn.metrics import ConfusionMatrixDisplay\n",
    "\n",
    "# GaussianNB is the Naive Bayese implementation in sklearn library\n",
    "# ConfusionMatrixDisplay and confusion_matrix gives us the confusion matrix\n",
    "\n",
    "gnb = GaussianNB()\n",
    "y_pred = gnb.fit(X_train, y_train).predict(X_test)\n",
    "\n",
    "print(\"Number of mislabeled points out of a total %d points : %d\" % (X_test.shape[0], (y_test != y_pred).sum()))\n",
    "\n",
    "cm = confusion_matrix(y_test, y_pred)\n",
    "print(\"Confusion matrix\")\n",
    "cm_display = ConfusionMatrixDisplay(cm).plot()\n"
   ]
  },
  {
   "cell_type": "code",
   "execution_count": 21,
   "metadata": {},
   "outputs": [
    {
     "name": "stdout",
     "output_type": "stream",
     "text": [
      "Accuracy : 0.9766081871345029\n",
      "Specificity : 0.9906542056074766\n",
      "Sensitivity : 0.953125\n",
      "              precision    recall  f1-score   support\n",
      "\n",
      "      Benign       0.97      0.99      0.98       107\n",
      "   Malignant       0.98      0.95      0.97        64\n",
      "\n",
      "    accuracy                           0.98       171\n",
      "   macro avg       0.98      0.97      0.97       171\n",
      "weighted avg       0.98      0.98      0.98       171\n",
      "\n"
     ]
    },
    {
     "data": {
      "image/png": "[encoded data removed]",
      "text/plain": [
       "<Figure size 432x288 with 1 Axes>"
      ]
     },
     "metadata": {
      "needs_background": "light"
     },
     "output_type": "display_data"
    }
   ],
   "source": [
    "# Final metrics \n",
    "from sklearn.metrics import accuracy_score, roc_curve, RocCurveDisplay, classification_report\n",
    "\n",
    "print(\"Accuracy :\", accuracy_score(y_test, y_pred))\n",
    "\n",
    "tn, fp, fn, tp = cm.ravel()\n",
    "print(\"Specificity :\", (tn / (tn+fp)))\n",
    "print(\"Sensitivity :\", (tp / (tp+fn)))\n",
    "\n",
    "print(classification_report(y_test, y_pred, target_names = ['Benign', 'Malignant']))\n",
    "\n",
    "fpr, tpr, _ = roc_curve(y_test, y_pred)\n",
    "roc_display = RocCurveDisplay(fpr=fpr, tpr=tpr).plot()"
   ]
  }
 ],
 "metadata": {
  "interpreter": {
   "hash": "40d3a090f54c6569ab1632332b64b2c03c39dcf918b08424e98f38b5ae0af88f"
  },
  "kernelspec": {
   "display_name": "Python 3.8.8 ('base')",
   "language": "python",
   "name": "python3"
  },
  "language_info": {
   "codemirror_mode": {
    "name": "ipython",
    "version": 3
   },
   "file_extension": ".py",
   "mimetype": "text/x-python",
   "name": "python",
   "nbconvert_exporter": "python",
   "pygments_lexer": "ipython3",
   "version": "3.8.8"
  },
  "orig_nbformat": 4
 },
 "nbformat": 4,
 "nbformat_minor": 2
}
