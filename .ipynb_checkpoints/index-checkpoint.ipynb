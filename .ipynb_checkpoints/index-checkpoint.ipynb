{
 "cells": [
  {
   "cell_type": "code",
   "execution_count": 49,
   "metadata": {},
   "outputs": [],
   "source": [
    "# Importing the library 'pandas' for the machine learning\n",
    "import pandas as pd\n",
    "import numpy as np\n",
    "import seaborn as sns\n",
    "import matplotlib.pyplot as plt\n",
    "\n",
    "# Importing the data from the csv file onto the 'df' dataframe\n",
    "df = pd.read_csv('./wdbc.csv',header=None)"
   ]
  },
  {
   "cell_type": "code",
   "execution_count": 50,
   "metadata": {},
   "outputs": [],
   "source": [
    "# Removing the column with ID Number since it's irrelevant to our classifier\n",
    "df.drop(df.columns[0], axis=1, inplace=True)"
   ]
  },
  {
   "cell_type": "code",
   "execution_count": 51,
   "metadata": {},
   "outputs": [
    {
     "name": "stdout",
     "output_type": "stream",
     "text": [
      "(569, 31)\n"
     ]
    }
   ],
   "source": [
    "# Confirming removal of ID Number\n",
    "print(df.shape)"
   ]
  },
  {
   "cell_type": "code",
   "execution_count": 52,
   "metadata": {},
   "outputs": [],
   "source": [
    "# Splitting the output variable and the training features\n",
    "y = df.iloc[:,0]\n",
    "df.drop(df.columns[0], axis=1, inplace=True)"
   ]
  },
  {
   "cell_type": "code",
   "execution_count": 53,
   "metadata": {},
   "outputs": [],
   "source": [
    "arr = [2,4,5,7,8,9,11,12,13,14,15,16,17,18,19,20,21,22,24,25,27,28,30,31]\n",
    "\n",
    "for x in arr:\n",
    "    df[x] = np.log(df[x] + 1)"
   ]
  },
  {
   "cell_type": "code",
   "execution_count": 54,
   "metadata": {},
   "outputs": [
    {
     "name": "stdout",
     "output_type": "stream",
     "text": [
      "*****\n",
      "2\n",
      "0.3487439167461767\n",
      "*****\n",
      "3\n",
      "0.6504495420828159\n",
      "*****\n",
      "4\n",
      "0.3287996723497268\n",
      "*****\n",
      "5\n",
      "0.2873275616161656\n",
      "*****\n",
      "6\n",
      "0.45632376481955844\n",
      "*****\n",
      "7\n",
      "1.0431948992217857\n",
      "*****\n",
      "8\n",
      "1.206982161984789\n",
      "*****\n",
      "9\n",
      "1.0831801862884642\n",
      "*****\n",
      "10\n",
      "0.7256089733641999\n",
      "*****\n",
      "11\n",
      "1.2722937281436493\n",
      "*****\n",
      "12\n",
      "1.7134167972878418\n",
      "*****\n",
      "13\n",
      "0.6295257510812304\n",
      "*****\n",
      "14\n",
      "1.0253751968470768\n",
      "*****\n",
      "15\n",
      "0.8472983033414304\n",
      "*****\n",
      "16\n",
      "2.2833944080852695\n",
      "*****\n",
      "17\n",
      "1.816277522909288\n",
      "*****\n",
      "18\n",
      "4.2317383273678875\n",
      "*****\n",
      "19\n",
      "1.3998687729951913\n",
      "*****\n",
      "20\n",
      "2.135874086281622\n",
      "*****\n",
      "21\n",
      "3.8743726424128595\n",
      "*****\n",
      "22\n",
      "0.5063474063695756\n",
      "*****\n",
      "23\n",
      "0.49832130948716474\n",
      "*****\n",
      "24\n",
      "0.46275797288005877\n",
      "*****\n",
      "25\n",
      "0.4576135034703789\n",
      "*****\n",
      "26\n",
      "0.4154259962824678\n",
      "*****\n",
      "27\n",
      "1.0487288239255645\n",
      "*****\n",
      "28\n",
      "0.7179391715379739\n",
      "*****\n",
      "29\n",
      "0.49261552688550875\n",
      "*****\n",
      "30\n",
      "1.152983889849773\n",
      "*****\n",
      "31\n",
      "1.5585593948471947\n"
     ]
    }
   ],
   "source": [
    "for x in df.columns:\n",
    "    print(\"*****\")\n",
    "    print(x)\n",
    "    print(df[x].skew())"
   ]
  },
  {
   "cell_type": "code",
   "execution_count": 55,
   "metadata": {},
   "outputs": [],
   "source": [
    "# Normalization\n",
    "\n",
    "df[3] = (df[3] - df[3].min()) / (df[3].max() - df[3].min())\n",
    "df[23] = (df[23] - df[23].min()) / (df[23].max() - df[23].min())"
   ]
  },
  {
   "cell_type": "code",
   "execution_count": 56,
   "metadata": {},
   "outputs": [],
   "source": [
    "# # Importing the normalizer and the column transformer for the data preprocessing\n",
    "# from sklearn.preprocessing import Normalizer\n",
    "# from sklearn.compose import ColumnTransformer\n",
    "\n",
    "# import numpy as np\n",
    "\n",
    "# ct = ColumnTransformer([(\"normalize\", Normalizer(), [1,21])], remainder='passthrough')\n",
    "\n",
    "# df = ct.fit_transform(df)"
   ]
  },
  {
   "cell_type": "code",
   "execution_count": 57,
   "metadata": {},
   "outputs": [],
   "source": [
    "# # Encoding the output variable to numeric class labels\n",
    "# from sklearn.preprocessing import LabelEncoder\n",
    "\n",
    "# le = LabelEncoder()\n",
    "# y = le.fit_transform(y)"
   ]
  },
  {
   "cell_type": "code",
   "execution_count": 58,
   "metadata": {},
   "outputs": [],
   "source": [
    "columns = [\"Radius\",\"Texture\",\"Perimeter\", \"Area\", \"Smoothness\",\"Compactness\",\"Concavity\", \"ConcavePoints\",\"Symmetry\",\"FractalDimenstion\",\n",
    "\"RadiusStandardDeviation\",\"TextureStandardDeviation\",\"PerimeterStandardDeviation\", \"AreaStandardDeviation\", \"SmoothnessStandardDeviation\",\"CompactnessStandardDeviation\",\"ConcavityStandardDeviation\", \"ConcavePointsStandardDeviation\",\"SymmetryStandardDeviation\",\"FractalDimenstionStandardDeviation\",\n",
    "\"RadiusWorstValue\",\"TextureWorstValue\",\"PerimeterWorstValue\", \"AreaWorstValue\", \"SmoothnessWorstValue\",\"CompactnessWorstValue\",\"ConcavityWorstValue\", \"ConcavePointsWorstValue\",\"SymmetryWorstValue\",\"FractalDimenstionWorstValue\", \"Diagnosis\"]"
   ]
  },
  {
   "cell_type": "code",
   "execution_count": 59,
   "metadata": {},
   "outputs": [
    {
     "name": "stdout",
     "output_type": "stream",
     "text": [
      "0      M\n",
      "1      M\n",
      "2      M\n",
      "3      M\n",
      "4      M\n",
      "      ..\n",
      "564    M\n",
      "565    M\n",
      "566    M\n",
      "567    M\n",
      "568    B\n",
      "Name: Diagnosis, Length: 569, dtype: object\n"
     ]
    }
   ],
   "source": [
    "df['Diagnosis'] = y\n",
    "\n",
    "import arff\n",
    "\n",
    "arff.dump('wdbc.arff', df.values, relation='wdbc', names=columns)"
   ]
  },
  {
   "cell_type": "code",
   "execution_count": null,
   "metadata": {},
   "outputs": [],
   "source": []
  },
  {
   "cell_type": "code",
   "execution_count": 97,
   "metadata": {},
   "outputs": [
    {
     "name": "stdout",
     "output_type": "stream",
     "text": [
      "[[0.51384042 0.85788579 2.94391252 ... 0.37850493 0.11234606 1.        ]\n",
      " [0.60461731 0.79651611 3.07130346 ... 0.24294618 0.08527821 1.        ]\n",
      " [0.63974011 0.7685913  3.02965049 ... 0.30844013 0.08395504 1.        ]\n",
      " ...\n",
      " [0.63545339 0.77213923 2.8678989  ... 0.20032518 0.07529298 1.        ]\n",
      " [0.59693461 0.80228989 3.07269331 ... 0.34266729 0.11689375 1.        ]\n",
      " [0.62849805 0.77781116 2.1701959  ... 0.25239163 0.06802307 0.        ]]\n"
     ]
    }
   ],
   "source": [
    "df = np.append(df, y, axis = 1)\n",
    "print(df)"
   ]
  },
  {
   "cell_type": "code",
   "execution_count": 98,
   "metadata": {},
   "outputs": [],
   "source": [
    "a = np.asarray(df)\n",
    "np.savetxt(\"test.csv\", a, delimiter=\",\")"
   ]
  },
  {
   "cell_type": "code",
   "execution_count": 15,
   "metadata": {},
   "outputs": [],
   "source": [
    "# Splitting the model in 70-30 scheme for training\n",
    "from sklearn.model_selection import train_test_split\n",
    "\n",
    "# The overall dataset is splitted into two sets of training and testing randomly\n",
    "X_train, X_test, y_train, y_test = train_test_split(df, y, test_size=0.30, random_state=6, stratify=y)"
   ]
  },
  {
   "cell_type": "code",
   "execution_count": 16,
   "metadata": {},
   "outputs": [
    {
     "name": "stdout",
     "output_type": "stream",
     "text": [
      "Number of mislabeled points out of a total 171 points : 7\n",
      "Confusion matrix\n"
     ]
    },
    {
     "data": {
      "image/png": "[encoded data removed]",
      "text/plain": [
       "<Figure size 432x288 with 2 Axes>"
      ]
     },
     "metadata": {
      "needs_background": "light"
     },
     "output_type": "display_data"
    }
   ],
   "source": [
    "from sklearn.naive_bayes import GaussianNB\n",
    "from sklearn.metrics import confusion_matrix\n",
    "from sklearn.metrics import ConfusionMatrixDisplay\n",
    "\n",
    "# GaussianNB is the Naive Bayese implementation in sklearn library\n",
    "# ConfusionMatrixDisplay and confusion_matrix gives us the confusion matrix\n",
    "\n",
    "gnb = GaussianNB()\n",
    "y_pred = gnb.fit(X_train, y_train).predict(X_test)\n",
    "\n",
    "print(\"Number of mislabeled points out of a total %d points : %d\" % (X_test.shape[0], (y_test != y_pred).sum()))\n",
    "\n",
    "cm = confusion_matrix(y_test, y_pred)\n",
    "print(\"Confusion matrix\")\n",
    "cm_display = ConfusionMatrixDisplay(cm).plot()\n"
   ]
  },
  {
   "cell_type": "code",
   "execution_count": 17,
   "metadata": {},
   "outputs": [
    {
     "name": "stdout",
     "output_type": "stream",
     "text": [
      "Accuracy : 0.9590643274853801\n",
      "Specificity : 0.9813084112149533\n",
      "Sensitivity : 0.921875\n",
      "              precision    recall  f1-score   support\n",
      "\n",
      "      Benign       0.95      0.98      0.97       107\n",
      "   Malignant       0.97      0.92      0.94        64\n",
      "\n",
      "    accuracy                           0.96       171\n",
      "   macro avg       0.96      0.95      0.96       171\n",
      "weighted avg       0.96      0.96      0.96       171\n",
      "\n"
     ]
    },
    {
     "data": {
      "image/png": "[encoded data removed]",
      "text/plain": [
       "<Figure size 432x288 with 1 Axes>"
      ]
     },
     "metadata": {
      "needs_background": "light"
     },
     "output_type": "display_data"
    }
   ],
   "source": [
    "# Final metrics \n",
    "from sklearn.metrics import accuracy_score, roc_curve, RocCurveDisplay, classification_report\n",
    "\n",
    "print(\"Accuracy :\", accuracy_score(y_test, y_pred))\n",
    "\n",
    "tn, fp, fn, tp = cm.ravel()\n",
    "print(\"Specificity :\", (tn / (tn+fp)))\n",
    "print(\"Sensitivity :\", (tp / (tp+fn)))\n",
    "\n",
    "print(classification_report(y_test, y_pred, target_names = ['Benign', 'Malignant']))\n",
    "\n",
    "fpr, tpr, _ = roc_curve(y_test, y_pred)\n",
    "roc_display = RocCurveDisplay(fpr=fpr, tpr=tpr).plot()"
   ]
  }
 ],
 "metadata": {
  "interpreter": {
   "hash": "40d3a090f54c6569ab1632332b64b2c03c39dcf918b08424e98f38b5ae0af88f"
  },
  "kernelspec": {
   "display_name": "Python 3",
   "language": "python",
   "name": "python3"
  },
  "language_info": {
   "codemirror_mode": {
    "name": "ipython",
    "version": 3
   },
   "file_extension": ".py",
   "mimetype": "text/x-python",
   "name": "python",
   "nbconvert_exporter": "python",
   "pygments_lexer": "ipython3",
   "version": "3.8.8"
  }
 },
 "nbformat": 4,
 "nbformat_minor": 4
}
